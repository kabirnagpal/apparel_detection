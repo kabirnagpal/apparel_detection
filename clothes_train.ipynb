{
  "nbformat": 4,
  "nbformat_minor": 0,
  "metadata": {
    "colab": {
      "name": "clothes_train.ipynb",
      "provenance": [],
      "collapsed_sections": []
    },
    "kernelspec": {
      "name": "python3",
      "display_name": "Python 3"
    },
    "accelerator": "GPU"
  },
  "cells": [
    {
      "cell_type": "code",
      "metadata": {
        "id": "pLF0gb2y3DAo",
        "colab_type": "code",
        "colab": {}
      },
      "source": [
        "! pip install -q kaggle"
      ],
      "execution_count": null,
      "outputs": []
    },
    {
      "cell_type": "code",
      "metadata": {
        "id": "XiYNXbt23KTU",
        "colab_type": "code",
        "colab": {}
      },
      "source": [
        "# upload kaggle api token\n",
        "from google.colab import files\n",
        "files.upload()"
      ],
      "execution_count": null,
      "outputs": []
    },
    {
      "cell_type": "code",
      "metadata": {
        "id": "upsZCtIg3OSA",
        "colab_type": "code",
        "colab": {}
      },
      "source": [
        "! mkdir ~/.kaggle\n",
        "! cp kaggle.json ~/.kaggle/"
      ],
      "execution_count": null,
      "outputs": []
    },
    {
      "cell_type": "code",
      "metadata": {
        "id": "RSMbmMqx3V6z",
        "colab_type": "code",
        "colab": {}
      },
      "source": [
        " ! chmod 600 ~/.kaggle/kaggle.json"
      ],
      "execution_count": null,
      "outputs": []
    },
    {
      "cell_type": "code",
      "metadata": {
        "id": "AOqoSrVq3acg",
        "colab_type": "code",
        "colab": {
          "base_uri": "https://localhost:8080/",
          "height": 67
        },
        "outputId": "c1d2e9ca-6651-46bf-f479-95a8bf6b8339"
      },
      "source": [
        "! kaggle datasets download -d 'trolukovich/apparel-images-dataset'"
      ],
      "execution_count": null,
      "outputs": [
        {
          "output_type": "stream",
          "text": [
            "Downloading apparel-images-dataset.zip to /content\n",
            " 98% 242M/248M [00:02<00:00, 106MB/s] \n",
            "100% 248M/248M [00:02<00:00, 90.4MB/s]\n"
          ],
          "name": "stdout"
        }
      ]
    },
    {
      "cell_type": "code",
      "metadata": {
        "id": "9-p_6Bx236cy",
        "colab_type": "code",
        "colab": {}
      },
      "source": [
        "%%bash\n",
        "mkdir train\n",
        "cd train\n",
        "unzip '/content/apparel-images-dataset.zip'"
      ],
      "execution_count": null,
      "outputs": []
    },
    {
      "cell_type": "code",
      "metadata": {
        "id": "Y6qMoV_-3-lp",
        "colab_type": "code",
        "colab": {
          "base_uri": "https://localhost:8080/",
          "height": 34
        },
        "outputId": "da68548b-ba11-408c-d7f8-ada6e74527cf"
      },
      "source": [
        "from tensorflow.keras.layers import *\n",
        "from keras import backend as K\n",
        "import tensorflow as tf\n",
        "from keras.models import load_model"
      ],
      "execution_count": null,
      "outputs": [
        {
          "output_type": "stream",
          "text": [
            "Using TensorFlow backend.\n"
          ],
          "name": "stderr"
        }
      ]
    },
    {
      "cell_type": "code",
      "metadata": {
        "id": "hfoAygZW3lOm",
        "colab_type": "code",
        "colab": {}
      },
      "source": [
        "from keras import backend as K\n",
        "import tensorflow as tf\n",
        "\n",
        "\n",
        "def recall_m(y_true, y_pred):\n",
        "\n",
        "    y_pred = K.cast(K.greater(K.clip(y_pred, 0, 1), 0.5),K.floatx())\n",
        "    true_positives = K.round(K.sum(K.clip(y_true * y_pred, 0, 1)))\n",
        "    possible_positives = K.sum(K.clip(y_true, 0, 1))\n",
        "    recall_ratio = true_positives / (possible_positives + K.epsilon())\n",
        "    return recall_ratio\n",
        "\n",
        "def precision_m(y_true, y_pred):\n",
        "\n",
        "    y_pred = K.cast(K.greater(K.clip(y_pred, 0, 1), 0.5), K.floatx())\n",
        "    true_positives = K.round(K.sum(K.clip(y_true * y_pred, 0, 1)))\n",
        "    predicted_positives = K.sum(y_pred)\n",
        "    precision_ratio = true_positives / (predicted_positives + K.epsilon())\n",
        "    return precision_ratio\n",
        "\n",
        "def f1_m(y_true, y_pred):\n",
        "    \n",
        "    precision = precision_m(y_true, y_pred)\n",
        "    recall = recall_m(y_true, y_pred)\n",
        "    return 2*((precision*recall)/(precision+recall+K.epsilon()))"
      ],
      "execution_count": null,
      "outputs": []
    },
    {
      "cell_type": "code",
      "metadata": {
        "id": "YWehgNvD4jjz",
        "colab_type": "code",
        "colab": {
          "base_uri": "https://localhost:8080/",
          "height": 34
        },
        "outputId": "40472165-51f4-4c0b-e33f-f0c91442ef04"
      },
      "source": [
        "from keras.preprocessing.image import ImageDataGenerator\n",
        "\n",
        "train_datagen = ImageDataGenerator(rescale = 1./255,\n",
        "                                   shear_range = 0.2,\n",
        "                                   zoom_range = 0.5,\n",
        "                                   validation_split=0.05)\n",
        "\n",
        "training_set = train_datagen.flow_from_directory('/content/training',\n",
        "                                                 target_size = (224, 224),\n",
        "                                                 batch_size = 64,\n",
        "                                                 subset='training')\n",
        "\n",
        "val_set = train_datagen.flow_from_directory('/content/training',\n",
        "                                                 target_size = (224, 224),\n",
        "                                                 batch_size = 64,\n",
        "                                                 subset='validation')"
      ],
      "execution_count": null,
      "outputs": [
        {
          "output_type": "stream",
          "text": [
            "Found 11385 images belonging to 24 classes.\n"
          ],
          "name": "stdout"
        }
      ]
    },
    {
      "cell_type": "code",
      "metadata": {
        "id": "7UWxDmhz4mn7",
        "colab_type": "code",
        "colab": {}
      },
      "source": [
        "img_width, img_height = 299, 299\n",
        "\n",
        "if K.image_data_format() == 'channels_first':\n",
        "    input_shape = (3, img_width, img_height)\n",
        "else:\n",
        "    input_shape = (img_width, img_height, 3)"
      ],
      "execution_count": null,
      "outputs": []
    },
    {
      "cell_type": "code",
      "metadata": {
        "id": "r0aQ72yZ4thE",
        "colab_type": "code",
        "colab": {
          "base_uri": "https://localhost:8080/",
          "height": 252
        },
        "outputId": "383cec41-ffa6-4eb6-ee1a-f0f7fefeed11"
      },
      "source": [
        "model = tf.keras.Sequential()\n",
        "model.add( tf.keras.applications.Xception(\n",
        "    input_shape=input_shape,\n",
        "    include_top=True,\n",
        "    weights=\"imagenet\",\n",
        "    input_tensor=None,\n",
        "    pooling=None,\n",
        "    classes=1000))\n",
        "\n",
        "model.add(Dense(24,activation='softmax'))\n",
        "model.compile(optimizer = 'adam', loss = 'categorical_crossentropy',               \n",
        "              metrics=['accuracy',f1_m])\n",
        "model.summary()"
      ],
      "execution_count": null,
      "outputs": [
        {
          "output_type": "stream",
          "text": [
            "Downloading data from https://storage.googleapis.com/tensorflow/keras-applications/xception/xception_weights_tf_dim_ordering_tf_kernels.h5\n",
            "91889664/91884032 [==============================] - 1s 0us/step\n",
            "Model: \"sequential\"\n",
            "_________________________________________________________________\n",
            "Layer (type)                 Output Shape              Param #   \n",
            "=================================================================\n",
            "xception (Model)             (None, 1000)              22910480  \n",
            "_________________________________________________________________\n",
            "dense (Dense)                (None, 24)                24024     \n",
            "=================================================================\n",
            "Total params: 22,934,504\n",
            "Trainable params: 22,879,976\n",
            "Non-trainable params: 54,528\n",
            "_________________________________________________________________\n"
          ],
          "name": "stdout"
        }
      ]
    },
    {
      "cell_type": "code",
      "metadata": {
        "id": "B25x35c80T5f",
        "colab_type": "code",
        "colab": {}
      },
      "source": [
        "c = tf.keras.callbacks.EarlyStopping(\n",
        "    monitor=\"val_loss\",\n",
        "    min_delta=0,\n",
        "    patience=5,\n",
        "    verbose=0,\n",
        "    mode=\"auto\",\n",
        "    baseline=None,\n",
        "    restore_best_weights=True,\n",
        ")"
      ],
      "execution_count": null,
      "outputs": []
    },
    {
      "cell_type": "code",
      "metadata": {
        "id": "T7zPJK1T4vXI",
        "colab_type": "code",
        "colab": {}
      },
      "source": [
        "history = model.fit_generator(generator=training_set,\n",
        "                              validation_data = val_set,\n",
        "                              epochs=100,\n",
        "                              callbacks = [c],\n",
        "                              verbose = 1)"
      ],
      "execution_count": null,
      "outputs": []
    },
    {
      "cell_type": "code",
      "metadata": {
        "id": "kElqSkJc4xK6",
        "colab_type": "code",
        "colab": {}
      },
      "source": [
        "model.save('model.h5',)"
      ],
      "execution_count": null,
      "outputs": []
    },
    {
      "cell_type": "code",
      "metadata": {
        "id": "zakoMDeo4y_q",
        "colab_type": "code",
        "colab": {}
      },
      "source": [
        "import matplotlib.pyplot as plt\n",
        "\n",
        "plt.plot(history.history['accuracy'])\n",
        "plt.title('Model accuracy')\n",
        "plt.ylabel('Accuracy')\n",
        "plt.xlabel('Epoch')\n",
        "plt.legend(['Train'], loc='upper left')\n",
        "plt.show()"
      ],
      "execution_count": null,
      "outputs": []
    },
    {
      "cell_type": "code",
      "metadata": {
        "id": "ALNjn8Oc40h2",
        "colab_type": "code",
        "colab": {}
      },
      "source": [
        "plt.plot(history.history['loss'])\n",
        "plt.title('Model loss')\n",
        "plt.ylabel('Loss')\n",
        "plt.xlabel('Epoch')\n",
        "plt.legend(['Train'], loc='upper left')\n",
        "plt.show()"
      ],
      "execution_count": null,
      "outputs": []
    }
  ]
}